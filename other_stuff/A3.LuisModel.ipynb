{
 "cells": [
  {
   "cell_type": "code",
   "execution_count": 1,
   "id": "780fef3e",
   "metadata": {},
   "outputs": [
    {
     "name": "stderr",
     "output_type": "stream",
     "text": [
      "/opt/miniconda3/lib/python3.12/site-packages/tqdm/auto.py:21: TqdmWarning: IProgress not found. Please update jupyter and ipywidgets. See https://ipywidgets.readthedocs.io/en/stable/user_install.html\n",
      "  from .autonotebook import tqdm as notebook_tqdm\n",
      "[I 2025-10-26 02:56:06,054] A new study created in memory with name: no-name-b41e850b-5d6a-405e-82d9-a57e26c1e3b3\n",
      "Best trial: 0. Best value: 218.13:   1%|          | 1/100 [00:12<21:25, 12.99s/it]"
     ]
    },
    {
     "name": "stdout",
     "output_type": "stream",
     "text": [
      "[I 2025-10-26 02:56:18,939] Trial 0 finished with value: 218.13026734954275 and parameters: {'n_estimators': 706, 'max_depth': 36, 'min_samples_split': 27, 'min_samples_leaf': 1, 'max_features': 'log2', 'bootstrap': False}. Best is trial 0 with value: 218.13026734954275.\n"
     ]
    },
    {
     "name": "stderr",
     "output_type": "stream",
     "text": [
      "Best trial: 1. Best value: 204.14:   2%|▏         | 2/100 [00:14<10:31,  6.44s/it]"
     ]
    },
    {
     "name": "stdout",
     "output_type": "stream",
     "text": [
      "[I 2025-10-26 02:56:20,812] Trial 1 finished with value: 204.1395300748326 and parameters: {'n_estimators': 859, 'max_depth': 44, 'min_samples_split': 27, 'min_samples_leaf': 2, 'max_features': 'sqrt', 'bootstrap': False}. Best is trial 1 with value: 204.1395300748326.\n"
     ]
    },
    {
     "name": "stderr",
     "output_type": "stream",
     "text": [
      "Best trial: 4. Best value: 194.519:   3%|▎         | 3/100 [00:26<14:12,  8.79s/it]"
     ]
    },
    {
     "name": "stdout",
     "output_type": "stream",
     "text": [
      "[I 2025-10-26 02:56:32,314] Trial 4 finished with value: 194.51919038302435 and parameters: {'n_estimators': 1573, 'max_depth': 56, 'min_samples_split': 2, 'min_samples_leaf': 8, 'max_features': 'sqrt', 'bootstrap': False}. Best is trial 4 with value: 194.51919038302435.\n"
     ]
    },
    {
     "name": "stderr",
     "output_type": "stream",
     "text": [
      "Best trial: 4. Best value: 194.519:   4%|▍         | 4/100 [00:31<11:31,  7.20s/it]"
     ]
    },
    {
     "name": "stdout",
     "output_type": "stream",
     "text": [
      "[I 2025-10-26 02:56:37,202] Trial 6 finished with value: 231.32370422916136 and parameters: {'n_estimators': 1580, 'max_depth': 26, 'min_samples_split': 2, 'min_samples_leaf': 9, 'max_features': 'log2', 'bootstrap': True}. Best is trial 4 with value: 194.51919038302435.\n"
     ]
    },
    {
     "name": "stderr",
     "output_type": "stream",
     "text": [
      "Best trial: 4. Best value: 194.519:   5%|▌         | 5/100 [00:36<10:33,  6.67s/it]"
     ]
    },
    {
     "name": "stdout",
     "output_type": "stream",
     "text": [
      "[I 2025-10-26 02:56:42,841] Trial 8 finished with value: 194.99376252686807 and parameters: {'n_estimators': 1155, 'max_depth': 22, 'min_samples_split': 6, 'min_samples_leaf': 4, 'max_features': 'log2', 'bootstrap': True}. Best is trial 4 with value: 194.51919038302435.\n"
     ]
    },
    {
     "name": "stderr",
     "output_type": "stream",
     "text": [
      "Best trial: 2. Best value: 193.3:   6%|▌         | 6/100 [00:37<07:24,  4.73s/it]  "
     ]
    },
    {
     "name": "stdout",
     "output_type": "stream",
     "text": [
      "[I 2025-10-26 02:56:43,774] Trial 2 finished with value: 193.29968453509227 and parameters: {'n_estimators': 2314, 'max_depth': 24, 'min_samples_split': 17, 'min_samples_leaf': 2, 'max_features': 'sqrt', 'bootstrap': False}. Best is trial 2 with value: 193.29968453509227.\n"
     ]
    },
    {
     "name": "stderr",
     "output_type": "stream",
     "text": [
      "Best trial: 2. Best value: 193.3:   7%|▋         | 7/100 [00:39<05:39,  3.65s/it]"
     ]
    },
    {
     "name": "stdout",
     "output_type": "stream",
     "text": [
      "[I 2025-10-26 02:56:45,276] Trial 5 finished with value: 226.94524509835028 and parameters: {'n_estimators': 2146, 'max_depth': 53, 'min_samples_split': 28, 'min_samples_leaf': 9, 'max_features': 'sqrt', 'bootstrap': True}. Best is trial 2 with value: 193.29968453509227.\n"
     ]
    },
    {
     "name": "stderr",
     "output_type": "stream",
     "text": [
      "Best trial: 2. Best value: 193.3:   8%|▊         | 8/100 [00:40<04:12,  2.75s/it]"
     ]
    },
    {
     "name": "stdout",
     "output_type": "stream",
     "text": [
      "[I 2025-10-26 02:56:45,936] Trial 3 finished with value: 291.22076706198993 and parameters: {'n_estimators': 2156, 'max_depth': 36, 'min_samples_split': 40, 'min_samples_leaf': 20, 'max_features': 'sqrt', 'bootstrap': True}. Best is trial 2 with value: 193.29968453509227.\n"
     ]
    },
    {
     "name": "stderr",
     "output_type": "stream",
     "text": [
      "Best trial: 2. Best value: 193.3:   9%|▉         | 9/100 [00:49<07:21,  4.86s/it]"
     ]
    },
    {
     "name": "stdout",
     "output_type": "stream",
     "text": [
      "[I 2025-10-26 02:56:55,584] Trial 10 finished with value: 247.78092593069573 and parameters: {'n_estimators': 1570, 'max_depth': 13, 'min_samples_split': 32, 'min_samples_leaf': 16, 'max_features': 'log2', 'bootstrap': False}. Best is trial 2 with value: 193.29968453509227.\n"
     ]
    },
    {
     "name": "stderr",
     "output_type": "stream",
     "text": [
      "                                                                                  "
     ]
    },
    {
     "name": "stdout",
     "output_type": "stream",
     "text": [
      "[I 2025-10-26 02:56:56,113] Trial 7 finished with value: 277.4698638791589 and parameters: {'n_estimators': 2767, 'max_depth': 20, 'min_samples_split': 38, 'min_samples_leaf': 9, 'max_features': 'log2', 'bootstrap': True}. Best is trial 2 with value: 193.29968453509227.\n"
     ]
    },
    {
     "name": "stderr",
     "output_type": "stream",
     "text": [
      "Best trial: 2. Best value: 193.3:  11%|█         | 11/100 [00:50<03:48,  2.56s/it]"
     ]
    },
    {
     "name": "stdout",
     "output_type": "stream",
     "text": [
      "[I 2025-10-26 02:56:56,379] Trial 14 finished with value: 198.42706291868592 and parameters: {'n_estimators': 642, 'max_depth': 54, 'min_samples_split': 7, 'min_samples_leaf': 9, 'max_features': 'sqrt', 'bootstrap': False}. Best is trial 2 with value: 193.29968453509227.\n"
     ]
    },
    {
     "name": "stderr",
     "output_type": "stream",
     "text": [
      "Best trial: 2. Best value: 193.3:  12%|█▏        | 12/100 [00:59<06:40,  4.55s/it]"
     ]
    },
    {
     "name": "stdout",
     "output_type": "stream",
     "text": [
      "[I 2025-10-26 02:57:05,303] Trial 9 finished with value: 220.26698522275706 and parameters: {'n_estimators': 2898, 'max_depth': 60, 'min_samples_split': 5, 'min_samples_leaf': 11, 'max_features': 'log2', 'bootstrap': False}. Best is trial 2 with value: 193.29968453509227.\n"
     ]
    },
    {
     "name": "stderr",
     "output_type": "stream",
     "text": [
      "Best trial: 2. Best value: 193.3:  13%|█▎        | 13/100 [01:00<04:55,  3.40s/it]"
     ]
    },
    {
     "name": "stdout",
     "output_type": "stream",
     "text": [
      "[I 2025-10-26 02:57:06,319] Trial 11 finished with value: 264.3410401546694 and parameters: {'n_estimators': 1580, 'max_depth': 55, 'min_samples_split': 38, 'min_samples_leaf': 14, 'max_features': 'sqrt', 'bootstrap': True}. Best is trial 2 with value: 193.29968453509227.\n"
     ]
    },
    {
     "name": "stderr",
     "output_type": "stream",
     "text": [
      "Best trial: 2. Best value: 193.3:  14%|█▍        | 14/100 [01:07<06:37,  4.62s/it]"
     ]
    },
    {
     "name": "stdout",
     "output_type": "stream",
     "text": [
      "[I 2025-10-26 02:57:13,726] Trial 15 finished with value: 244.35822687563763 and parameters: {'n_estimators': 1557, 'max_depth': 58, 'min_samples_split': 4, 'min_samples_leaf': 14, 'max_features': 'sqrt', 'bootstrap': True}. Best is trial 2 with value: 193.29968453509227.\n"
     ]
    },
    {
     "name": "stderr",
     "output_type": "stream",
     "text": [
      "Best trial: 2. Best value: 193.3:  15%|█▌        | 15/100 [01:17<08:35,  6.06s/it]"
     ]
    },
    {
     "name": "stdout",
     "output_type": "stream",
     "text": [
      "[I 2025-10-26 02:57:23,194] Trial 13 finished with value: 254.19845555873653 and parameters: {'n_estimators': 2911, 'max_depth': 44, 'min_samples_split': 33, 'min_samples_leaf': 17, 'max_features': 'log2', 'bootstrap': False}. Best is trial 2 with value: 193.29968453509227.\n"
     ]
    },
    {
     "name": "stderr",
     "output_type": "stream",
     "text": [
      "Best trial: 2. Best value: 193.3:  16%|█▌        | 16/100 [01:19<06:42,  4.80s/it]"
     ]
    },
    {
     "name": "stdout",
     "output_type": "stream",
     "text": [
      "[I 2025-10-26 02:57:25,051] Trial 16 finished with value: 193.59881050424633 and parameters: {'n_estimators': 1992, 'max_depth': 46, 'min_samples_split': 18, 'min_samples_leaf': 4, 'max_features': 'sqrt', 'bootstrap': False}. Best is trial 2 with value: 193.29968453509227.\n"
     ]
    },
    {
     "name": "stderr",
     "output_type": "stream",
     "text": [
      "Best trial: 2. Best value: 193.3:  17%|█▋        | 17/100 [01:24<06:45,  4.89s/it]"
     ]
    },
    {
     "name": "stdout",
     "output_type": "stream",
     "text": [
      "[I 2025-10-26 02:57:30,130] Trial 12 finished with value: 268.50680438664364 and parameters: {'n_estimators': 2810, 'max_depth': 14, 'min_samples_split': 27, 'min_samples_leaf': 13, 'max_features': 'log2', 'bootstrap': True}. Best is trial 2 with value: 193.29968453509227.\n"
     ]
    },
    {
     "name": "stderr",
     "output_type": "stream",
     "text": [
      "Best trial: 18. Best value: 190.998:  18%|█▊        | 18/100 [01:29<06:39,  4.87s/it]"
     ]
    },
    {
     "name": "stdout",
     "output_type": "stream",
     "text": [
      "[I 2025-10-26 02:57:35,012] Trial 18 finished with value: 190.99794867728355 and parameters: {'n_estimators': 2679, 'max_depth': 8, 'min_samples_split': 14, 'min_samples_leaf': 5, 'max_features': 'sqrt', 'bootstrap': False}. Best is trial 18 with value: 190.99794867728355.\n"
     ]
    },
    {
     "name": "stderr",
     "output_type": "stream",
     "text": [
      "Best trial: 18. Best value: 190.998:  19%|█▉        | 19/100 [01:30<05:02,  3.73s/it]"
     ]
    },
    {
     "name": "stdout",
     "output_type": "stream",
     "text": [
      "[I 2025-10-26 02:57:36,082] Trial 17 finished with value: 216.09995471521006 and parameters: {'n_estimators': 2867, 'max_depth': 11, 'min_samples_split': 13, 'min_samples_leaf': 14, 'max_features': 'sqrt', 'bootstrap': False}. Best is trial 18 with value: 190.99794867728355.\n"
     ]
    },
    {
     "name": "stderr",
     "output_type": "stream",
     "text": [
      "Best trial: 18. Best value: 190.998:  20%|██        | 20/100 [01:32<04:15,  3.20s/it]"
     ]
    },
    {
     "name": "stdout",
     "output_type": "stream",
     "text": [
      "[I 2025-10-26 02:57:38,000] Trial 19 finished with value: 193.314145910441 and parameters: {'n_estimators': 2310, 'max_depth': 8, 'min_samples_split': 16, 'min_samples_leaf': 6, 'max_features': 'sqrt', 'bootstrap': False}. Best is trial 18 with value: 190.99794867728355.\n"
     ]
    },
    {
     "name": "stderr",
     "output_type": "stream",
     "text": [
      "Best trial: 18. Best value: 190.998:  21%|██        | 21/100 [01:34<03:50,  2.91s/it]"
     ]
    },
    {
     "name": "stdout",
     "output_type": "stream",
     "text": [
      "[I 2025-10-26 02:57:40,302] Trial 20 finished with value: 191.31298006126886 and parameters: {'n_estimators': 2439, 'max_depth': 8, 'min_samples_split': 14, 'min_samples_leaf': 6, 'max_features': 'sqrt', 'bootstrap': False}. Best is trial 18 with value: 190.99794867728355.\n"
     ]
    },
    {
     "name": "stderr",
     "output_type": "stream",
     "text": [
      "Best trial: 18. Best value: 190.998:  22%|██▏       | 22/100 [01:39<04:47,  3.68s/it]"
     ]
    },
    {
     "name": "stdout",
     "output_type": "stream",
     "text": [
      "[I 2025-10-26 02:57:45,791] Trial 21 finished with value: 191.45095598233007 and parameters: {'n_estimators': 2353, 'max_depth': 9, 'min_samples_split': 15, 'min_samples_leaf': 5, 'max_features': 'sqrt', 'bootstrap': False}. Best is trial 18 with value: 190.99794867728355.\n"
     ]
    },
    {
     "name": "stderr",
     "output_type": "stream",
     "text": [
      "Best trial: 18. Best value: 190.998:  23%|██▎       | 23/100 [01:48<06:46,  5.28s/it]"
     ]
    },
    {
     "name": "stdout",
     "output_type": "stream",
     "text": [
      "[I 2025-10-26 02:57:54,541] Trial 22 finished with value: 191.99270568714388 and parameters: {'n_estimators': 2381, 'max_depth': 8, 'min_samples_split': 15, 'min_samples_leaf': 5, 'max_features': 'sqrt', 'bootstrap': False}. Best is trial 18 with value: 190.99794867728355.\n"
     ]
    },
    {
     "name": "stderr",
     "output_type": "stream",
     "text": [
      "Best trial: 18. Best value: 190.998:  24%|██▍       | 24/100 [01:51<05:35,  4.41s/it]"
     ]
    },
    {
     "name": "stdout",
     "output_type": "stream",
     "text": [
      "[I 2025-10-26 02:57:57,149] Trial 23 finished with value: 191.28132453230225 and parameters: {'n_estimators': 2341, 'max_depth': 29, 'min_samples_split': 15, 'min_samples_leaf': 5, 'max_features': 'sqrt', 'bootstrap': False}. Best is trial 18 with value: 190.99794867728355.\n"
     ]
    },
    {
     "name": "stderr",
     "output_type": "stream",
     "text": [
      "Best trial: 24. Best value: 189.982:  25%|██▌       | 25/100 [01:55<05:35,  4.47s/it]"
     ]
    },
    {
     "name": "stdout",
     "output_type": "stream",
     "text": [
      "[I 2025-10-26 02:58:01,742] Trial 24 finished with value: 189.9824233588152 and parameters: {'n_estimators': 2365, 'max_depth': 29, 'min_samples_split': 14, 'min_samples_leaf': 5, 'max_features': 'sqrt', 'bootstrap': False}. Best is trial 24 with value: 189.9824233588152.\n"
     ]
    },
    {
     "name": "stderr",
     "output_type": "stream",
     "text": [
      "Best trial: 24. Best value: 189.982:  26%|██▌       | 26/100 [02:01<06:03,  4.91s/it]"
     ]
    },
    {
     "name": "stdout",
     "output_type": "stream",
     "text": [
      "[I 2025-10-26 02:58:07,691] Trial 25 finished with value: 191.49431912640847 and parameters: {'n_estimators': 2471, 'max_depth': 28, 'min_samples_split': 15, 'min_samples_leaf': 6, 'max_features': 'sqrt', 'bootstrap': False}. Best is trial 24 with value: 189.9824233588152.\n"
     ]
    },
    {
     "name": "stderr",
     "output_type": "stream",
     "text": [
      "Best trial: 24. Best value: 189.982:  27%|██▋       | 27/100 [02:03<04:57,  4.08s/it]"
     ]
    },
    {
     "name": "stdout",
     "output_type": "stream",
     "text": [
      "[I 2025-10-26 02:58:09,824] Trial 26 finished with value: 193.43127651035817 and parameters: {'n_estimators': 2534, 'max_depth': 9, 'min_samples_split': 17, 'min_samples_leaf': 6, 'max_features': 'sqrt', 'bootstrap': False}. Best is trial 24 with value: 189.9824233588152.\n"
     ]
    },
    {
     "name": "stderr",
     "output_type": "stream",
     "text": [
      "Best trial: 27. Best value: 187.307:  28%|██▊       | 28/100 [02:05<04:09,  3.46s/it]"
     ]
    },
    {
     "name": "stdout",
     "output_type": "stream",
     "text": [
      "[I 2025-10-26 02:58:11,685] Trial 27 finished with value: 187.30679937114638 and parameters: {'n_estimators': 2521, 'max_depth': 25, 'min_samples_split': 10, 'min_samples_leaf': 4, 'max_features': 'sqrt', 'bootstrap': False}. Best is trial 27 with value: 187.30679937114638.\n"
     ]
    },
    {
     "name": "stderr",
     "output_type": "stream",
     "text": [
      "Best trial: 27. Best value: 187.307:  29%|██▉       | 29/100 [02:07<03:36,  3.04s/it]"
     ]
    },
    {
     "name": "stdout",
     "output_type": "stream",
     "text": [
      "[I 2025-10-26 02:58:13,943] Trial 28 finished with value: 188.64491511926494 and parameters: {'n_estimators': 2521, 'max_depth': 19, 'min_samples_split': 12, 'min_samples_leaf': 5, 'max_features': 'sqrt', 'bootstrap': False}. Best is trial 27 with value: 187.30679937114638.\n"
     ]
    },
    {
     "name": "stderr",
     "output_type": "stream",
     "text": [
      "Best trial: 27. Best value: 187.307:  30%|███       | 30/100 [02:13<04:24,  3.78s/it]"
     ]
    },
    {
     "name": "stdout",
     "output_type": "stream",
     "text": [
      "[I 2025-10-26 02:58:19,305] Trial 29 finished with value: 188.56949174591608 and parameters: {'n_estimators': 2549, 'max_depth': 8, 'min_samples_split': 11, 'min_samples_leaf': 6, 'max_features': 'sqrt', 'bootstrap': False}. Best is trial 27 with value: 187.30679937114638.\n"
     ]
    },
    {
     "name": "stderr",
     "output_type": "stream",
     "text": [
      "Best trial: 27. Best value: 187.307:  31%|███       | 31/100 [02:22<06:16,  5.46s/it]"
     ]
    },
    {
     "name": "stdout",
     "output_type": "stream",
     "text": [
      "[I 2025-10-26 02:58:28,838] Trial 30 finished with value: 188.41577156376513 and parameters: {'n_estimators': 2588, 'max_depth': 17, 'min_samples_split': 11, 'min_samples_leaf': 6, 'max_features': 'sqrt', 'bootstrap': False}. Best is trial 27 with value: 187.30679937114638.\n"
     ]
    },
    {
     "name": "stderr",
     "output_type": "stream",
     "text": [
      "Best trial: 27. Best value: 187.307:  32%|███▏      | 32/100 [02:26<05:41,  5.02s/it]"
     ]
    },
    {
     "name": "stdout",
     "output_type": "stream",
     "text": [
      "[I 2025-10-26 02:58:32,819] Trial 31 finished with value: 191.6896468392742 and parameters: {'n_estimators': 2706, 'max_depth': 30, 'min_samples_split': 10, 'min_samples_leaf': 7, 'max_features': 'sqrt', 'bootstrap': False}. Best is trial 27 with value: 187.30679937114638.\n",
      "[I 2025-10-26 02:58:32,850] Trial 33 finished with value: 188.6124909853535 and parameters: {'n_estimators': 1892, 'max_depth': 30, 'min_samples_split': 10, 'min_samples_leaf': 3, 'max_features': 'sqrt', 'bootstrap': False}. Best is trial 27 with value: 187.30679937114638.\n"
     ]
    },
    {
     "name": "stderr",
     "output_type": "stream",
     "text": [
      "Best trial: 27. Best value: 187.307:  34%|███▍      | 34/100 [02:31<04:04,  3.70s/it]"
     ]
    },
    {
     "name": "stdout",
     "output_type": "stream",
     "text": [
      "[I 2025-10-26 02:58:36,985] Trial 32 finished with value: 191.68723018694482 and parameters: {'n_estimators': 2686, 'max_depth': 30, 'min_samples_split': 10, 'min_samples_leaf': 7, 'max_features': 'sqrt', 'bootstrap': False}. Best is trial 27 with value: 187.30679937114638.\n"
     ]
    },
    {
     "name": "stderr",
     "output_type": "stream",
     "text": [
      "Best trial: 27. Best value: 187.307:  35%|███▌      | 35/100 [02:35<04:05,  3.78s/it]"
     ]
    },
    {
     "name": "stdout",
     "output_type": "stream",
     "text": [
      "[I 2025-10-26 02:58:41,185] Trial 36 finished with value: 191.52774939383593 and parameters: {'n_estimators': 2024, 'max_depth': 33, 'min_samples_split': 10, 'min_samples_leaf': 1, 'max_features': 'sqrt', 'bootstrap': False}. Best is trial 27 with value: 187.30679937114638.\n"
     ]
    },
    {
     "name": "stderr",
     "output_type": "stream",
     "text": [
      "Best trial: 27. Best value: 187.307:  36%|███▌      | 36/100 [02:37<03:43,  3.49s/it]"
     ]
    },
    {
     "name": "stdout",
     "output_type": "stream",
     "text": [
      "[I 2025-10-26 02:58:43,749] Trial 34 finished with value: 188.8060629008763 and parameters: {'n_estimators': 2591, 'max_depth': 29, 'min_samples_split': 10, 'min_samples_leaf': 3, 'max_features': 'sqrt', 'bootstrap': False}. Best is trial 27 with value: 187.30679937114638.\n"
     ]
    },
    {
     "name": "stderr",
     "output_type": "stream",
     "text": [
      "Best trial: 27. Best value: 187.307:  37%|███▋      | 37/100 [02:40<03:23,  3.22s/it]"
     ]
    },
    {
     "name": "stdout",
     "output_type": "stream",
     "text": [
      "[I 2025-10-26 02:58:46,363] Trial 35 finished with value: 187.6406046724554 and parameters: {'n_estimators': 2651, 'max_depth': 17, 'min_samples_split': 9, 'min_samples_leaf': 3, 'max_features': 'sqrt', 'bootstrap': False}. Best is trial 27 with value: 187.30679937114638.\n"
     ]
    },
    {
     "name": "stderr",
     "output_type": "stream",
     "text": [
      "Best trial: 27. Best value: 187.307:  38%|███▊      | 38/100 [02:47<04:30,  4.36s/it]"
     ]
    },
    {
     "name": "stdout",
     "output_type": "stream",
     "text": [
      "[I 2025-10-26 02:58:53,444] Trial 37 finished with value: 191.2182418025743 and parameters: {'n_estimators': 2623, 'max_depth': 17, 'min_samples_split': 10, 'min_samples_leaf': 1, 'max_features': 'sqrt', 'bootstrap': False}. Best is trial 27 with value: 187.30679937114638.\n"
     ]
    },
    {
     "name": "stderr",
     "output_type": "stream",
     "text": [
      "Best trial: 27. Best value: 187.307:  39%|███▉      | 39/100 [02:51<04:14,  4.17s/it]"
     ]
    },
    {
     "name": "stdout",
     "output_type": "stream",
     "text": [
      "[I 2025-10-26 02:58:57,212] Trial 39 finished with value: 191.40065634965237 and parameters: {'n_estimators': 1833, 'max_depth': 34, 'min_samples_split': 10, 'min_samples_leaf': 1, 'max_features': 'sqrt', 'bootstrap': False}. Best is trial 27 with value: 187.30679937114638.\n",
      "[I 2025-10-26 02:58:57,221] Trial 40 finished with value: 190.15408464974425 and parameters: {'n_estimators': 1834, 'max_depth': 16, 'min_samples_split': 9, 'min_samples_leaf': 1, 'max_features': 'sqrt', 'bootstrap': False}. Best is trial 27 with value: 187.30679937114638.\n"
     ]
    },
    {
     "name": "stderr",
     "output_type": "stream",
     "text": [
      "Best trial: 27. Best value: 187.307:  41%|████      | 41/100 [02:56<03:23,  3.44s/it]"
     ]
    },
    {
     "name": "stdout",
     "output_type": "stream",
     "text": [
      "[I 2025-10-26 02:59:01,997] Trial 41 finished with value: 190.13869723325655 and parameters: {'n_estimators': 1870, 'max_depth': 16, 'min_samples_split': 9, 'min_samples_leaf': 1, 'max_features': 'sqrt', 'bootstrap': False}. Best is trial 27 with value: 187.30679937114638.\n"
     ]
    },
    {
     "name": "stderr",
     "output_type": "stream",
     "text": [
      "                                                                                     "
     ]
    },
    {
     "name": "stdout",
     "output_type": "stream",
     "text": [
      "[I 2025-10-26 02:59:04,350] Trial 38 finished with value: 189.43601310755483 and parameters: {'n_estimators': 2678, 'max_depth': 17, 'min_samples_split': 10, 'min_samples_leaf': 2, 'max_features': 'sqrt', 'bootstrap': False}. Best is trial 27 with value: 187.30679937114638.\n"
     ]
    },
    {
     "name": "stderr",
     "output_type": "stream",
     "text": [
      "Best trial: 27. Best value: 187.307:  43%|████▎     | 43/100 [02:58<02:10,  2.29s/it]"
     ]
    },
    {
     "name": "stdout",
     "output_type": "stream",
     "text": [
      "[I 2025-10-26 02:59:04,577] Trial 42 finished with value: 195.29453280467754 and parameters: {'n_estimators': 1798, 'max_depth': 18, 'min_samples_split': 20, 'min_samples_leaf': 3, 'max_features': 'sqrt', 'bootstrap': False}. Best is trial 27 with value: 187.30679937114638.\n"
     ]
    },
    {
     "name": "stderr",
     "output_type": "stream",
     "text": [
      "Best trial: 27. Best value: 187.307:  44%|████▍     | 44/100 [03:01<02:20,  2.50s/it]"
     ]
    },
    {
     "name": "stdout",
     "output_type": "stream",
     "text": [
      "[I 2025-10-26 02:59:07,677] Trial 43 finished with value: 195.47166355484688 and parameters: {'n_estimators': 1823, 'max_depth': 17, 'min_samples_split': 20, 'min_samples_leaf': 2, 'max_features': 'sqrt', 'bootstrap': False}. Best is trial 27 with value: 187.30679937114638.\n"
     ]
    },
    {
     "name": "stderr",
     "output_type": "stream",
     "text": [
      "Best trial: 27. Best value: 187.307:  45%|████▌     | 45/100 [03:10<03:59,  4.35s/it]"
     ]
    },
    {
     "name": "stdout",
     "output_type": "stream",
     "text": [
      "[I 2025-10-26 02:59:16,357] Trial 48 finished with value: 197.47172636304134 and parameters: {'n_estimators': 1005, 'max_depth': 24, 'min_samples_split': 21, 'min_samples_leaf': 3, 'max_features': 'sqrt', 'bootstrap': False}. Best is trial 27 with value: 187.30679937114638.\n"
     ]
    },
    {
     "name": "stderr",
     "output_type": "stream",
     "text": [
      "Best trial: 27. Best value: 187.307:  46%|████▌     | 46/100 [03:17<04:45,  5.28s/it]"
     ]
    },
    {
     "name": "stdout",
     "output_type": "stream",
     "text": [
      "[I 2025-10-26 02:59:23,682] Trial 45 finished with value: 195.48983422448836 and parameters: {'n_estimators': 2212, 'max_depth': 16, 'min_samples_split': 20, 'min_samples_leaf': 2, 'max_features': 'sqrt', 'bootstrap': False}. Best is trial 27 with value: 187.30679937114638.\n"
     ]
    },
    {
     "name": "stderr",
     "output_type": "stream",
     "text": [
      "Best trial: 27. Best value: 187.307:  47%|████▋     | 47/100 [03:20<04:05,  4.63s/it]"
     ]
    },
    {
     "name": "stdout",
     "output_type": "stream",
     "text": [
      "[I 2025-10-26 02:59:26,940] Trial 44 finished with value: 194.846286908851 and parameters: {'n_estimators': 2988, 'max_depth': 15, 'min_samples_split': 20, 'min_samples_leaf': 1, 'max_features': 'sqrt', 'bootstrap': False}. Best is trial 27 with value: 187.30679937114638.\n"
     ]
    },
    {
     "name": "stderr",
     "output_type": "stream",
     "text": [
      "Best trial: 27. Best value: 187.307:  48%|████▊     | 48/100 [03:21<02:58,  3.42s/it]"
     ]
    },
    {
     "name": "stdout",
     "output_type": "stream",
     "text": [
      "[I 2025-10-26 02:59:27,465] Trial 47 finished with value: 188.19067084271396 and parameters: {'n_estimators': 2167, 'max_depth': 22, 'min_samples_split': 7, 'min_samples_leaf': 3, 'max_features': 'sqrt', 'bootstrap': False}. Best is trial 27 with value: 187.30679937114638.\n"
     ]
    },
    {
     "name": "stderr",
     "output_type": "stream",
     "text": [
      "Best trial: 27. Best value: 187.307:  49%|████▉     | 49/100 [03:30<04:21,  5.12s/it]"
     ]
    },
    {
     "name": "stdout",
     "output_type": "stream",
     "text": [
      "[I 2025-10-26 02:59:36,579] Trial 49 finished with value: 195.1357225864986 and parameters: {'n_estimators': 2171, 'max_depth': 24, 'min_samples_split': 20, 'min_samples_leaf': 4, 'max_features': 'sqrt', 'bootstrap': False}. Best is trial 27 with value: 187.30679937114638.\n"
     ]
    },
    {
     "name": "stderr",
     "output_type": "stream",
     "text": [
      "Best trial: 27. Best value: 187.307:  50%|█████     | 50/100 [03:31<03:08,  3.78s/it]"
     ]
    },
    {
     "name": "stdout",
     "output_type": "stream",
     "text": [
      "[I 2025-10-26 02:59:36,983] Trial 50 finished with value: 188.08612060773098 and parameters: {'n_estimators': 2208, 'max_depth': 23, 'min_samples_split': 7, 'min_samples_leaf': 3, 'max_features': 'sqrt', 'bootstrap': False}. Best is trial 27 with value: 187.30679937114638.\n"
     ]
    },
    {
     "name": "stderr",
     "output_type": "stream",
     "text": [
      "Best trial: 27. Best value: 187.307:  51%|█████     | 51/100 [03:33<02:41,  3.29s/it]"
     ]
    },
    {
     "name": "stdout",
     "output_type": "stream",
     "text": [
      "[I 2025-10-26 02:59:39,339] Trial 46 finished with value: 203.37608371991206 and parameters: {'n_estimators': 2996, 'max_depth': 21, 'min_samples_split': 19, 'min_samples_leaf': 11, 'max_features': 'sqrt', 'bootstrap': False}. Best is trial 27 with value: 187.30679937114638.\n"
     ]
    },
    {
     "name": "stderr",
     "output_type": "stream",
     "text": [
      "Best trial: 27. Best value: 187.307:  52%|█████▏    | 52/100 [03:42<04:06,  5.14s/it]"
     ]
    },
    {
     "name": "stdout",
     "output_type": "stream",
     "text": [
      "[I 2025-10-26 02:59:48,706] Trial 51 finished with value: 189.60049137972993 and parameters: {'n_estimators': 2179, 'max_depth': 23, 'min_samples_split': 3, 'min_samples_leaf': 3, 'max_features': 'log2', 'bootstrap': True}. Best is trial 27 with value: 187.30679937114638.\n"
     ]
    },
    {
     "name": "stderr",
     "output_type": "stream",
     "text": [
      "Best trial: 27. Best value: 187.307:  53%|█████▎    | 53/100 [03:44<03:05,  3.96s/it]"
     ]
    },
    {
     "name": "stdout",
     "output_type": "stream",
     "text": [
      "[I 2025-10-26 02:59:49,894] Trial 53 finished with value: 203.08847806737964 and parameters: {'n_estimators': 1305, 'max_depth': 22, 'min_samples_split': 7, 'min_samples_leaf': 8, 'max_features': 'sqrt', 'bootstrap': True}. Best is trial 27 with value: 187.30679937114638.\n"
     ]
    },
    {
     "name": "stderr",
     "output_type": "stream",
     "text": [
      "Best trial: 27. Best value: 187.307:  54%|█████▍    | 54/100 [04:03<06:39,  8.69s/it]"
     ]
    },
    {
     "name": "stdout",
     "output_type": "stream",
     "text": [
      "[I 2025-10-26 03:00:09,877] Trial 55 finished with value: 239.82364321130362 and parameters: {'n_estimators': 2214, 'max_depth': 21, 'min_samples_split': 7, 'min_samples_leaf': 10, 'max_features': 'log2', 'bootstrap': True}. Best is trial 27 with value: 187.30679937114638.\n"
     ]
    },
    {
     "name": "stderr",
     "output_type": "stream",
     "text": [
      "Best trial: 27. Best value: 187.307:  54%|█████▍    | 54/100 [04:04<06:39,  8.69s/it]"
     ]
    },
    {
     "name": "stdout",
     "output_type": "stream",
     "text": [
      "[I 2025-10-26 03:00:10,541] Trial 54 finished with value: 222.8135974294843 and parameters: {'n_estimators': 2221, 'max_depth': 23, 'min_samples_split': 7, 'min_samples_leaf': 8, 'max_features': 'log2', 'bootstrap': True}. Best is trial 27 with value: 187.30679937114638.\n"
     ]
    },
    {
     "name": "stderr",
     "output_type": "stream",
     "text": [
      "Best trial: 27. Best value: 187.307:  56%|█████▌    | 56/100 [04:07<03:54,  5.32s/it]"
     ]
    },
    {
     "name": "stdout",
     "output_type": "stream",
     "text": [
      "[I 2025-10-26 03:00:13,656] Trial 52 finished with value: 222.7503317151759 and parameters: {'n_estimators': 2956, 'max_depth': 22, 'min_samples_split': 7, 'min_samples_leaf': 8, 'max_features': 'log2', 'bootstrap': True}. Best is trial 27 with value: 187.30679937114638.\n"
     ]
    },
    {
     "name": "stderr",
     "output_type": "stream",
     "text": [
      "Best trial: 27. Best value: 187.307:  57%|█████▋    | 57/100 [04:12<03:43,  5.19s/it]"
     ]
    },
    {
     "name": "stdout",
     "output_type": "stream",
     "text": [
      "[I 2025-10-26 03:00:18,631] Trial 57 finished with value: 222.67203223298034 and parameters: {'n_estimators': 2049, 'max_depth': 21, 'min_samples_split': 3, 'min_samples_leaf': 8, 'max_features': 'log2', 'bootstrap': True}. Best is trial 27 with value: 187.30679937114638.\n"
     ]
    },
    {
     "name": "stderr",
     "output_type": "stream",
     "text": [
      "Best trial: 27. Best value: 187.307:  58%|█████▊    | 58/100 [04:16<03:26,  4.92s/it]"
     ]
    },
    {
     "name": "stdout",
     "output_type": "stream",
     "text": [
      "[I 2025-10-26 03:00:22,860] Trial 58 finished with value: 222.82698233712463 and parameters: {'n_estimators': 2232, 'max_depth': 22, 'min_samples_split': 7, 'min_samples_leaf': 8, 'max_features': 'log2', 'bootstrap': True}. Best is trial 27 with value: 187.30679937114638.\n"
     ]
    },
    {
     "name": "stderr",
     "output_type": "stream",
     "text": [
      "Best trial: 27. Best value: 187.307:  59%|█████▉    | 59/100 [04:17<02:32,  3.71s/it]"
     ]
    },
    {
     "name": "stdout",
     "output_type": "stream",
     "text": [
      "[I 2025-10-26 03:00:23,624] Trial 60 finished with value: 192.36183587143995 and parameters: {'n_estimators': 2053, 'max_depth': 12, 'min_samples_split': 5, 'min_samples_leaf': 4, 'max_features': 'log2', 'bootstrap': False}. Best is trial 27 with value: 187.30679937114638.\n"
     ]
    },
    {
     "name": "stderr",
     "output_type": "stream",
     "text": [
      "Best trial: 27. Best value: 187.307:  60%|██████    | 60/100 [04:24<03:03,  4.58s/it]"
     ]
    },
    {
     "name": "stdout",
     "output_type": "stream",
     "text": [
      "[I 2025-10-26 03:00:30,386] Trial 56 finished with value: 222.78831014012258 and parameters: {'n_estimators': 2794, 'max_depth': 20, 'min_samples_split': 3, 'min_samples_leaf': 8, 'max_features': 'log2', 'bootstrap': True}. Best is trial 27 with value: 187.30679937114638.\n"
     ]
    },
    {
     "name": "stderr",
     "output_type": "stream",
     "text": [
      "Best trial: 27. Best value: 187.307:  61%|██████    | 61/100 [04:34<04:01,  6.20s/it]"
     ]
    },
    {
     "name": "stdout",
     "output_type": "stream",
     "text": [
      "[I 2025-10-26 03:00:40,347] Trial 59 finished with value: 222.85213082732744 and parameters: {'n_estimators': 2769, 'max_depth': 13, 'min_samples_split': 7, 'min_samples_leaf': 8, 'max_features': 'log2', 'bootstrap': True}. Best is trial 27 with value: 187.30679937114638.\n"
     ]
    },
    {
     "name": "stderr",
     "output_type": "stream",
     "text": [
      "Best trial: 63. Best value: 186.498:  62%|██████▏   | 62/100 [04:37<03:24,  5.38s/it]"
     ]
    },
    {
     "name": "stdout",
     "output_type": "stream",
     "text": [
      "[I 2025-10-26 03:00:43,561] Trial 63 finished with value: 186.49830472094314 and parameters: {'n_estimators': 2051, 'max_depth': 13, 'min_samples_split': 5, 'min_samples_leaf': 4, 'max_features': 'sqrt', 'bootstrap': False}. Best is trial 63 with value: 186.49830472094314.\n"
     ]
    },
    {
     "name": "stderr",
     "output_type": "stream",
     "text": [
      "Best trial: 63. Best value: 186.498:  63%|██████▎   | 63/100 [04:44<03:30,  5.70s/it]"
     ]
    },
    {
     "name": "stdout",
     "output_type": "stream",
     "text": [
      "[I 2025-10-26 03:00:50,124] Trial 61 finished with value: 192.42627497731868 and parameters: {'n_estimators': 2771, 'max_depth': 12, 'min_samples_split': 6, 'min_samples_leaf': 4, 'max_features': 'log2', 'bootstrap': False}. Best is trial 63 with value: 186.49830472094314.\n",
      "[I 2025-10-26 03:00:50,426] Trial 62 finished with value: 201.01817834444336 and parameters: {'n_estimators': 2799, 'max_depth': 12, 'min_samples_split': 24, 'min_samples_leaf': 4, 'max_features': 'sqrt', 'bootstrap': False}. Best is trial 63 with value: 186.49830472094314.\n"
     ]
    },
    {
     "name": "stderr",
     "output_type": "stream",
     "text": [
      "Best trial: 63. Best value: 186.498:  65%|██████▌   | 65/100 [04:50<02:38,  4.53s/it]"
     ]
    },
    {
     "name": "stdout",
     "output_type": "stream",
     "text": [
      "[I 2025-10-26 03:00:56,135] Trial 65 finished with value: 188.86992679191147 and parameters: {'n_estimators': 2429, 'max_depth': 12, 'min_samples_split': 12, 'min_samples_leaf': 4, 'max_features': 'sqrt', 'bootstrap': False}. Best is trial 63 with value: 186.49830472094314.\n"
     ]
    },
    {
     "name": "stderr",
     "output_type": "stream",
     "text": [
      "Best trial: 63. Best value: 186.498:  66%|██████▌   | 66/100 [04:51<02:03,  3.65s/it]"
     ]
    },
    {
     "name": "stdout",
     "output_type": "stream",
     "text": [
      "[I 2025-10-26 03:00:57,594] Trial 64 finished with value: 188.85565913474716 and parameters: {'n_estimators': 2804, 'max_depth': 12, 'min_samples_split': 12, 'min_samples_leaf': 4, 'max_features': 'sqrt', 'bootstrap': False}. Best is trial 63 with value: 186.49830472094314.\n"
     ]
    },
    {
     "name": "stderr",
     "output_type": "stream",
     "text": [
      "Best trial: 63. Best value: 186.498:  67%|██████▋   | 67/100 [04:54<01:52,  3.40s/it]"
     ]
    },
    {
     "name": "stdout",
     "output_type": "stream",
     "text": [
      "[I 2025-10-26 03:01:00,460] Trial 67 finished with value: 241.26501124894153 and parameters: {'n_estimators': 2448, 'max_depth': 26, 'min_samples_split': 12, 'min_samples_leaf': 20, 'max_features': 'sqrt', 'bootstrap': False}. Best is trial 63 with value: 186.49830472094314.\n"
     ]
    },
    {
     "name": "stderr",
     "output_type": "stream",
     "text": [
      "Best trial: 63. Best value: 186.498:  68%|██████▊   | 68/100 [04:55<01:26,  2.70s/it]"
     ]
    },
    {
     "name": "stdout",
     "output_type": "stream",
     "text": [
      "[I 2025-10-26 03:01:01,637] Trial 66 finished with value: 188.80506292984742 and parameters: {'n_estimators': 2818, 'max_depth': 27, 'min_samples_split': 12, 'min_samples_leaf': 4, 'max_features': 'sqrt', 'bootstrap': False}. Best is trial 63 with value: 186.49830472094314.\n"
     ]
    },
    {
     "name": "stderr",
     "output_type": "stream",
     "text": [
      "Best trial: 63. Best value: 186.498:  69%|██████▉   | 69/100 [04:57<01:13,  2.37s/it]"
     ]
    },
    {
     "name": "stdout",
     "output_type": "stream",
     "text": [
      "[I 2025-10-26 03:01:03,071] Trial 68 finished with value: 241.39699631059557 and parameters: {'n_estimators': 1929, 'max_depth': 26, 'min_samples_split': 12, 'min_samples_leaf': 20, 'max_features': 'sqrt', 'bootstrap': False}. Best is trial 63 with value: 186.49830472094314.\n"
     ]
    },
    {
     "name": "stderr",
     "output_type": "stream",
     "text": [
      "Best trial: 63. Best value: 186.498:  70%|███████   | 70/100 [05:11<02:59,  5.99s/it]"
     ]
    },
    {
     "name": "stdout",
     "output_type": "stream",
     "text": [
      "[I 2025-10-26 03:01:17,617] Trial 69 finished with value: 188.84414994995512 and parameters: {'n_estimators': 2509, 'max_depth': 10, 'min_samples_split': 12, 'min_samples_leaf': 4, 'max_features': 'sqrt', 'bootstrap': False}. Best is trial 63 with value: 186.49830472094314.\n"
     ]
    },
    {
     "name": "stderr",
     "output_type": "stream",
     "text": [
      "Best trial: 63. Best value: 186.498:  72%|███████▏  | 72/100 [05:17<01:55,  4.14s/it]"
     ]
    },
    {
     "name": "stdout",
     "output_type": "stream",
     "text": [
      "[I 2025-10-26 03:01:23,203] Trial 71 finished with value: 191.70765583142054 and parameters: {'n_estimators': 2445, 'max_depth': 27, 'min_samples_split': 12, 'min_samples_leaf': 7, 'max_features': 'sqrt', 'bootstrap': False}. Best is trial 63 with value: 186.49830472094314.\n",
      "[I 2025-10-26 03:01:23,306] Trial 70 finished with value: 188.85557315797942 and parameters: {'n_estimators': 2443, 'max_depth': 26, 'min_samples_split': 12, 'min_samples_leaf': 4, 'max_features': 'sqrt', 'bootstrap': False}. Best is trial 63 with value: 186.49830472094314.\n"
     ]
    },
    {
     "name": "stderr",
     "output_type": "stream",
     "text": [
      "Best trial: 63. Best value: 186.498:  73%|███████▎  | 73/100 [05:22<01:59,  4.42s/it]"
     ]
    },
    {
     "name": "stdout",
     "output_type": "stream",
     "text": [
      "[I 2025-10-26 03:01:28,360] Trial 73 finished with value: 191.65240368485743 and parameters: {'n_estimators': 2295, 'max_depth': 40, 'min_samples_split': 5, 'min_samples_leaf': 2, 'max_features': 'sqrt', 'bootstrap': False}. Best is trial 63 with value: 186.49830472094314.\n"
     ]
    },
    {
     "name": "stderr",
     "output_type": "stream",
     "text": [
      "Best trial: 63. Best value: 186.498:  74%|███████▍  | 74/100 [05:24<01:37,  3.74s/it]"
     ]
    },
    {
     "name": "stdout",
     "output_type": "stream",
     "text": [
      "[I 2025-10-26 03:01:30,525] Trial 72 finished with value: 188.48089201604142 and parameters: {'n_estimators': 2552, 'max_depth': 10, 'min_samples_split': 12, 'min_samples_leaf': 6, 'max_features': 'sqrt', 'bootstrap': False}. Best is trial 63 with value: 186.49830472094314.\n"
     ]
    },
    {
     "name": "stderr",
     "output_type": "stream",
     "text": [
      "Best trial: 63. Best value: 186.498:  75%|███████▌  | 75/100 [05:27<01:30,  3.61s/it]"
     ]
    },
    {
     "name": "stdout",
     "output_type": "stream",
     "text": [
      "[I 2025-10-26 03:01:33,821] Trial 74 finished with value: 191.73907207191345 and parameters: {'n_estimators': 2547, 'max_depth': 26, 'min_samples_split': 2, 'min_samples_leaf': 7, 'max_features': 'sqrt', 'bootstrap': False}. Best is trial 63 with value: 186.49830472094314.\n"
     ]
    },
    {
     "name": "stderr",
     "output_type": "stream",
     "text": [
      "Best trial: 63. Best value: 186.498:  76%|███████▌  | 76/100 [05:28<01:08,  2.86s/it]"
     ]
    },
    {
     "name": "stdout",
     "output_type": "stream",
     "text": [
      "[I 2025-10-26 03:01:34,953] Trial 75 finished with value: 188.42368978086813 and parameters: {'n_estimators': 2526, 'max_depth': 14, 'min_samples_split': 5, 'min_samples_leaf': 6, 'max_features': 'sqrt', 'bootstrap': False}. Best is trial 63 with value: 186.49830472094314.\n"
     ]
    },
    {
     "name": "stderr",
     "output_type": "stream",
     "text": [
      "Best trial: 63. Best value: 186.498:  77%|███████▋  | 77/100 [05:32<01:08,  2.98s/it]"
     ]
    },
    {
     "name": "stdout",
     "output_type": "stream",
     "text": [
      "[I 2025-10-26 03:01:38,134] Trial 76 finished with value: 188.42897984002246 and parameters: {'n_estimators': 2565, 'max_depth': 39, 'min_samples_split': 5, 'min_samples_leaf': 6, 'max_features': 'sqrt', 'bootstrap': False}. Best is trial 63 with value: 186.49830472094314.\n"
     ]
    },
    {
     "name": "stderr",
     "output_type": "stream",
     "text": [
      "Best trial: 63. Best value: 186.498:  78%|███████▊  | 78/100 [05:34<01:00,  2.75s/it]"
     ]
    },
    {
     "name": "stdout",
     "output_type": "stream",
     "text": [
      "[I 2025-10-26 03:01:40,454] Trial 77 finished with value: 191.72006917528213 and parameters: {'n_estimators': 1733, 'max_depth': 42, 'min_samples_split': 5, 'min_samples_leaf': 7, 'max_features': 'sqrt', 'bootstrap': False}. Best is trial 63 with value: 186.49830472094314.\n"
     ]
    },
    {
     "name": "stderr",
     "output_type": "stream",
     "text": [
      "Best trial: 63. Best value: 186.498:  79%|███████▉  | 79/100 [05:40<01:19,  3.81s/it]"
     ]
    },
    {
     "name": "stdout",
     "output_type": "stream",
     "text": [
      "[I 2025-10-26 03:01:46,578] Trial 79 finished with value: 189.42671912121483 and parameters: {'n_estimators': 1702, 'max_depth': 32, 'min_samples_split': 5, 'min_samples_leaf': 3, 'max_features': 'sqrt', 'bootstrap': False}. Best is trial 63 with value: 186.49830472094314.\n"
     ]
    },
    {
     "name": "stderr",
     "output_type": "stream",
     "text": [
      "Best trial: 63. Best value: 186.498:  80%|████████  | 80/100 [05:45<01:24,  4.22s/it]"
     ]
    },
    {
     "name": "stdout",
     "output_type": "stream",
     "text": [
      "[I 2025-10-26 03:01:51,898] Trial 80 finished with value: 187.65569038293694 and parameters: {'n_estimators': 1699, 'max_depth': 32, 'min_samples_split': 9, 'min_samples_leaf': 3, 'max_features': 'sqrt', 'bootstrap': False}. Best is trial 63 with value: 186.49830472094314.\n"
     ]
    },
    {
     "name": "stderr",
     "output_type": "stream",
     "text": [
      "Best trial: 63. Best value: 186.498:  81%|████████  | 81/100 [05:47<01:07,  3.55s/it]"
     ]
    },
    {
     "name": "stdout",
     "output_type": "stream",
     "text": [
      "[I 2025-10-26 03:01:53,869] Trial 78 finished with value: 189.1251510608403 and parameters: {'n_estimators': 2281, 'max_depth': 39, 'min_samples_split': 5, 'min_samples_leaf': 3, 'max_features': 'sqrt', 'bootstrap': False}. Best is trial 63 with value: 186.49830472094314.\n"
     ]
    },
    {
     "name": "stderr",
     "output_type": "stream",
     "text": [
      "Best trial: 63. Best value: 186.498:  82%|████████▏ | 82/100 [05:55<01:25,  4.75s/it]"
     ]
    },
    {
     "name": "stdout",
     "output_type": "stream",
     "text": [
      "[I 2025-10-26 03:02:01,444] Trial 84 finished with value: 187.76231008131026 and parameters: {'n_estimators': 1682, 'max_depth': 39, 'min_samples_split': 4, 'min_samples_leaf': 5, 'max_features': 'sqrt', 'bootstrap': False}. Best is trial 63 with value: 186.49830472094314.\n"
     ]
    },
    {
     "name": "stderr",
     "output_type": "stream",
     "text": [
      "Best trial: 63. Best value: 186.498:  83%|████████▎ | 83/100 [05:55<00:58,  3.45s/it]"
     ]
    },
    {
     "name": "stdout",
     "output_type": "stream",
     "text": [
      "[I 2025-10-26 03:02:01,756] Trial 82 finished with value: 188.64436117909926 and parameters: {'n_estimators': 2121, 'max_depth': 15, 'min_samples_split': 8, 'min_samples_leaf': 6, 'max_features': 'sqrt', 'bootstrap': False}. Best is trial 63 with value: 186.49830472094314.\n"
     ]
    },
    {
     "name": "stderr",
     "output_type": "stream",
     "text": [
      "Best trial: 63. Best value: 186.498:  84%|████████▍ | 84/100 [05:58<00:48,  3.04s/it]"
     ]
    },
    {
     "name": "stdout",
     "output_type": "stream",
     "text": [
      "[I 2025-10-26 03:02:03,859] Trial 83 finished with value: 187.44208833833005 and parameters: {'n_estimators': 2104, 'max_depth': 15, 'min_samples_split': 8, 'min_samples_leaf': 5, 'max_features': 'sqrt', 'bootstrap': False}. Best is trial 63 with value: 186.49830472094314.\n",
      "[I 2025-10-26 03:02:04,086] Trial 81 finished with value: 188.4865560315959 and parameters: {'n_estimators': 2586, 'max_depth': 10, 'min_samples_split': 8, 'min_samples_leaf': 6, 'max_features': 'sqrt', 'bootstrap': False}. Best is trial 63 with value: 186.49830472094314.\n"
     ]
    },
    {
     "name": "stderr",
     "output_type": "stream",
     "text": [
      "Best trial: 63. Best value: 186.498:  86%|████████▌ | 86/100 [06:09<01:08,  4.88s/it]"
     ]
    },
    {
     "name": "stdout",
     "output_type": "stream",
     "text": [
      "[I 2025-10-26 03:02:15,295] Trial 86 finished with value: 187.4178817458075 and parameters: {'n_estimators': 2115, 'max_depth': 19, 'min_samples_split': 8, 'min_samples_leaf': 5, 'max_features': 'sqrt', 'bootstrap': False}. Best is trial 63 with value: 186.49830472094314.\n"
     ]
    },
    {
     "name": "stderr",
     "output_type": "stream",
     "text": [
      "Best trial: 63. Best value: 186.498:  87%|████████▋ | 87/100 [06:10<00:48,  3.71s/it]"
     ]
    },
    {
     "name": "stdout",
     "output_type": "stream",
     "text": [
      "[I 2025-10-26 03:02:16,218] Trial 85 finished with value: 187.34758550781874 and parameters: {'n_estimators': 2637, 'max_depth': 38, 'min_samples_split': 8, 'min_samples_leaf': 5, 'max_features': 'sqrt', 'bootstrap': False}. Best is trial 63 with value: 186.49830472094314.\n"
     ]
    },
    {
     "name": "stderr",
     "output_type": "stream",
     "text": [
      "Best trial: 63. Best value: 186.498:  88%|████████▊ | 88/100 [06:12<00:37,  3.16s/it]"
     ]
    },
    {
     "name": "stdout",
     "output_type": "stream",
     "text": [
      "[I 2025-10-26 03:02:18,140] Trial 87 finished with value: 190.01715145241317 and parameters: {'n_estimators': 1939, 'max_depth': 19, 'min_samples_split': 8, 'min_samples_leaf': 2, 'max_features': 'sqrt', 'bootstrap': False}. Best is trial 63 with value: 186.49830472094314.\n"
     ]
    },
    {
     "name": "stderr",
     "output_type": "stream",
     "text": [
      "Best trial: 63. Best value: 186.498:  89%|████████▉ | 89/100 [06:17<00:40,  3.69s/it]"
     ]
    },
    {
     "name": "stdout",
     "output_type": "stream",
     "text": [
      "[I 2025-10-26 03:02:23,076] Trial 91 finished with value: 188.09072258810755 and parameters: {'n_estimators': 1426, 'max_depth': 36, 'min_samples_split': 8, 'min_samples_leaf': 5, 'max_features': 'sqrt', 'bootstrap': False}. Best is trial 63 with value: 186.49830472094314.\n"
     ]
    },
    {
     "name": "stderr",
     "output_type": "stream",
     "text": [
      "Best trial: 63. Best value: 186.498:  90%|█████████ | 90/100 [06:18<00:29,  2.91s/it]"
     ]
    },
    {
     "name": "stdout",
     "output_type": "stream",
     "text": [
      "[I 2025-10-26 03:02:23,953] Trial 92 finished with value: 188.01176350502084 and parameters: {'n_estimators': 1470, 'max_depth': 50, 'min_samples_split': 9, 'min_samples_leaf': 5, 'max_features': 'sqrt', 'bootstrap': False}. Best is trial 63 with value: 186.49830472094314.\n"
     ]
    },
    {
     "name": "stderr",
     "output_type": "stream",
     "text": [
      "Best trial: 63. Best value: 186.498:  91%|█████████ | 91/100 [06:18<00:20,  2.22s/it]"
     ]
    },
    {
     "name": "stdout",
     "output_type": "stream",
     "text": [
      "[I 2025-10-26 03:02:24,646] Trial 90 finished with value: 187.7056848031463 and parameters: {'n_estimators': 1699, 'max_depth': 46, 'min_samples_split': 8, 'min_samples_leaf': 5, 'max_features': 'sqrt', 'bootstrap': False}. Best is trial 63 with value: 186.49830472094314.\n"
     ]
    },
    {
     "name": "stderr",
     "output_type": "stream",
     "text": [
      "Best trial: 63. Best value: 186.498:  92%|█████████▏| 92/100 [06:21<00:20,  2.51s/it]"
     ]
    },
    {
     "name": "stdout",
     "output_type": "stream",
     "text": [
      "[I 2025-10-26 03:02:27,978] Trial 88 finished with value: 187.35935156643228 and parameters: {'n_estimators': 2636, 'max_depth': 36, 'min_samples_split': 8, 'min_samples_leaf': 5, 'max_features': 'sqrt', 'bootstrap': False}. Best is trial 63 with value: 186.49830472094314.\n"
     ]
    },
    {
     "name": "stderr",
     "output_type": "stream",
     "text": [
      "Best trial: 63. Best value: 186.498:  93%|█████████▎| 93/100 [06:23<00:15,  2.28s/it]"
     ]
    },
    {
     "name": "stdout",
     "output_type": "stream",
     "text": [
      "[I 2025-10-26 03:02:29,564] Trial 89 finished with value: 187.44367902040585 and parameters: {'n_estimators': 2105, 'max_depth': 48, 'min_samples_split': 8, 'min_samples_leaf': 5, 'max_features': 'sqrt', 'bootstrap': False}. Best is trial 63 with value: 186.49830472094314.\n"
     ]
    },
    {
     "name": "stderr",
     "output_type": "stream",
     "text": [
      "Best trial: 63. Best value: 186.498:  94%|█████████▍| 94/100 [06:28<00:18,  3.10s/it]"
     ]
    },
    {
     "name": "stdout",
     "output_type": "stream",
     "text": [
      "[I 2025-10-26 03:02:34,693] Trial 93 finished with value: 188.01844612471356 and parameters: {'n_estimators': 1513, 'max_depth': 19, 'min_samples_split': 9, 'min_samples_leaf': 5, 'max_features': 'sqrt', 'bootstrap': False}. Best is trial 63 with value: 186.49830472094314.\n",
      "[I 2025-10-26 03:02:34,900] Trial 94 finished with value: 188.04657915048122 and parameters: {'n_estimators': 1509, 'max_depth': 36, 'min_samples_split': 9, 'min_samples_leaf': 5, 'max_features': 'sqrt', 'bootstrap': False}. Best is trial 63 with value: 186.49830472094314.\n"
     ]
    },
    {
     "name": "stderr",
     "output_type": "stream",
     "text": [
      "Best trial: 63. Best value: 186.498:  96%|█████████▌| 96/100 [06:31<00:08,  2.20s/it]"
     ]
    },
    {
     "name": "stdout",
     "output_type": "stream",
     "text": [
      "[I 2025-10-26 03:02:37,058] Trial 95 finished with value: 187.82481570155954 and parameters: {'n_estimators': 1623, 'max_depth': 34, 'min_samples_split': 9, 'min_samples_leaf': 5, 'max_features': 'sqrt', 'bootstrap': False}. Best is trial 63 with value: 186.49830472094314.\n"
     ]
    },
    {
     "name": "stderr",
     "output_type": "stream",
     "text": [
      "Best trial: 63. Best value: 186.498:  97%|█████████▋| 97/100 [06:33<00:06,  2.25s/it]"
     ]
    },
    {
     "name": "stdout",
     "output_type": "stream",
     "text": [
      "[I 2025-10-26 03:02:39,463] Trial 97 finished with value: 187.9017493588188 and parameters: {'n_estimators': 1528, 'max_depth': 47, 'min_samples_split': 9, 'min_samples_leaf': 5, 'max_features': 'sqrt', 'bootstrap': False}. Best is trial 63 with value: 186.49830472094314.\n",
      "[I 2025-10-26 03:02:39,533] Trial 96 finished with value: 187.76498503623654 and parameters: {'n_estimators': 1669, 'max_depth': 44, 'min_samples_split': 9, 'min_samples_leaf': 5, 'max_features': 'sqrt', 'bootstrap': False}. Best is trial 63 with value: 186.49830472094314.\n"
     ]
    },
    {
     "name": "stderr",
     "output_type": "stream",
     "text": [
      "Best trial: 63. Best value: 186.498:  99%|█████████▉| 99/100 [06:33<00:01,  1.29s/it]"
     ]
    },
    {
     "name": "stdout",
     "output_type": "stream",
     "text": [
      "[I 2025-10-26 03:02:39,808] Trial 98 finished with value: 187.80317133819662 and parameters: {'n_estimators': 1640, 'max_depth': 49, 'min_samples_split': 9, 'min_samples_leaf': 5, 'max_features': 'sqrt', 'bootstrap': False}. Best is trial 63 with value: 186.49830472094314.\n"
     ]
    },
    {
     "name": "stderr",
     "output_type": "stream",
     "text": [
      "Best trial: 63. Best value: 186.498: 100%|██████████| 100/100 [06:34<00:00,  3.94s/it]\n"
     ]
    },
    {
     "name": "stdout",
     "output_type": "stream",
     "text": [
      "[I 2025-10-26 03:02:40,164] Trial 99 finished with value: 187.73653470442565 and parameters: {'n_estimators': 1684, 'max_depth': 47, 'min_samples_split': 9, 'min_samples_leaf': 5, 'max_features': 'sqrt', 'bootstrap': False}. Best is trial 63 with value: 186.49830472094314.\n",
      "\n",
      "✅ Best hyperparameters:\n",
      "n_estimators: 2051\n",
      "max_depth: 13\n",
      "min_samples_split: 5\n",
      "min_samples_leaf: 4\n",
      "max_features: sqrt\n",
      "bootstrap: False\n",
      "\n",
      "==== Final Test Metrics ====\n",
      "MSE: 205.1958\n",
      "MAE: 10.2891\n",
      "R²:  0.9372\n",
      "\n",
      "📦 Artefactos guardados:\n",
      "- best_model.pkl\n",
      "- X_columns.pkl\n",
      "- model_metadata.pkl\n",
      "- model_fit_plot.png\n"
     ]
    }
   ],
   "source": [
    "# ============================================\n",
    "# train_optimal_load_model.py\n",
    "# RandomForest + Optuna (200 trials, k=5 estratificado por Product_ID)\n",
    "# Dataset base (vuelo × producto), ignora Crew_Feedback y Unit_Cost\n",
    "# Feature engineering: Spec_per_Passenger, Spec_x_Passengers, IsWeekend, Quarter,\n",
    "#                      Avg_Consumed_Product, Avg_Returned_Product\n",
    "# Guarda: best_model.pkl, X_columns.pkl, model_metadata.pkl, model_fit_plot.png\n",
    "# ============================================\n",
    "\n",
    "import os\n",
    "import joblib\n",
    "import optuna\n",
    "import numpy as np\n",
    "import pandas as pd\n",
    "import matplotlib.pyplot as plt\n",
    "\n",
    "from sklearn.model_selection import train_test_split, StratifiedKFold\n",
    "from sklearn.ensemble import RandomForestRegressor\n",
    "from sklearn.metrics import mean_squared_error, mean_absolute_error, r2_score\n",
    "\n",
    "# -------------------------\n",
    "# 1) Cargar datos\n",
    "# -------------------------\n",
    "PATH = \"/Users/luisgarcia/Documents/LuisCoding/Septimo/2 y 3 periodo/HACKMTY/hackmty2025-gategroup/consumption-prediction/data/ConsumptionPrediction_Dataset_v1.xlsx\"  # ajusta si es necesario\n",
    "if not os.path.exists(PATH):\n",
    "    raise FileNotFoundError(f\"No se encontró {PATH} en el directorio actual.\")\n",
    "df = pd.read_excel(PATH, sheet_name=0)\n",
    "df = df.replace({True: 1, False: 0})\n",
    "\n",
    "# Columnas esperadas (de tu dataset)\n",
    "expected = [\n",
    "    \"Flight_ID\",\"Origin\",\"Date\",\"Flight_Type\",\"Service_Type\",\n",
    "    \"Passenger_Count\",\"Product_ID\",\"Product_Name\",\n",
    "    \"Standard_Specification_Qty\",\"Quantity_Returned\",\"Quantity_Consumed\",\"Unit_Cost\",\"Crew_Feedback\"\n",
    "]\n",
    "missing = [c for c in expected if c not in df.columns]\n",
    "if missing:\n",
    "    raise ValueError(f\"Faltan columnas esperadas: {missing}\")\n",
    "\n",
    "# -------------------------\n",
    "# 2) Limpieza y filtros\n",
    "# -------------------------\n",
    "# Ignorar columnas no usadas\n",
    "df = df.drop(columns=[\"Crew_Feedback\"], errors=\"ignore\")\n",
    "\n",
    "# Parseo de fecha y derivados\n",
    "df[\"Date\"] = pd.to_datetime(df[\"Date\"], errors=\"coerce\")\n",
    "df = df.dropna(subset=[\"Date\"])\n",
    "df[\"Month\"] = df[\"Date\"].dt.month\n",
    "df[\"DayOfWeek\"] = df[\"Date\"].dt.dayofweek  # 0=Lun … 6=Dom\n",
    "df[\"IsWeekend\"] = df[\"DayOfWeek\"].isin([5, 6]).astype(int)\n",
    "df[\"Quarter\"] = df[\"Month\"].apply(lambda x: (int(x)-1)//3 + 1)\n",
    "\n",
    "# % devuelto (para definir el target)\n",
    "eps = 1e-9\n",
    "df[\"Percentage_Returned\"] = df[\"Quantity_Returned\"] / (df[\"Standard_Specification_Qty\"] + eps)\n",
    "\n",
    "# Target conservador básico: consumo + margen por promedio global del retorno\n",
    "avg_pr = df[\"Percentage_Returned\"].replace([np.inf, -np.inf], np.nan).dropna().mean()\n",
    "avg_pr = 0.0 if pd.isna(avg_pr) else float(avg_pr)\n",
    "df[\"Optimal_Load\"] = df[\"Quantity_Consumed\"] + avg_pr * df[\"Standard_Specification_Qty\"]\n",
    "\n",
    "# -------------------------\n",
    "# 3) Features por producto (históricos)\n",
    "# -------------------------\n",
    "# Promedios históricos por producto (no son fuga: son medias históricas generales)\n",
    "prod_stats = (\n",
    "    df.groupby(\"Product_ID\")[[\"Quantity_Consumed\", \"Quantity_Returned\"]]\n",
    "      .mean()\n",
    "      .rename(columns={\"Quantity_Consumed\":\"Avg_Consumed_Product\",\n",
    "                       \"Quantity_Returned\":\"Avg_Returned_Product\"})\n",
    ")\n",
    "df = df.merge(prod_stats, on=\"Product_ID\", how=\"left\")\n",
    "\n",
    "# Interacciones\n",
    "df[\"Spec_per_Passenger\"] = df[\"Standard_Specification_Qty\"] / (df[\"Passenger_Count\"] + eps)\n",
    "df[\"Spec_x_Passengers\"]  = df[\"Standard_Specification_Qty\"] * df[\"Passenger_Count\"]\n",
    "\n",
    "# -------------------------\n",
    "# 4) Diseño de features (sin fugas)\n",
    "# -------------------------\n",
    "# Excluir post-vuelo y columnas no informativas / no usadas\n",
    "drop_cols = {\n",
    "    \"Quantity_Consumed\",\"Quantity_Returned\",\"Percentage_Returned\",\n",
    "    \"Optimal_Load\",\"Date\",\"Product_Name\",\"Flight_ID\",\"Unit_Cost\"  # fuera Unit_Cost\n",
    "}\n",
    "\n",
    "cat_cols = [\"Origin\",\"Flight_Type\",\"Service_Type\",\"Product_ID\"]\n",
    "num_cols = [\n",
    "    \"Passenger_Count\",\"Standard_Specification_Qty\",\n",
    "    \"Month\",\"DayOfWeek\",\"IsWeekend\",\"Quarter\",\n",
    "    \"Avg_Consumed_Product\",\"Avg_Returned_Product\",\n",
    "    \"Spec_per_Passenger\",\"Spec_x_Passengers\",\n",
    "]\n",
    "\n",
    "for c in cat_cols + num_cols:\n",
    "    if c not in df.columns:\n",
    "        raise ValueError(f\"Falta columna para features: {c}\")\n",
    "\n",
    "X = pd.concat(\n",
    "    [df[num_cols].reset_index(drop=True),\n",
    "     pd.get_dummies(df[cat_cols], prefix=cat_cols, drop_first=False).reset_index(drop=True)],\n",
    "    axis=1\n",
    ")\n",
    "y = df[\"Optimal_Load\"].astype(float)\n",
    "\n",
    "# Mantener una serie con Product_ID (para estratificación)\n",
    "prod_labels = df[\"Product_ID\"].astype(str).reset_index(drop=True)\n",
    "\n",
    "# -------------------------\n",
    "# 5) Split train/test\n",
    "# -------------------------\n",
    "X_train, X_test, y_train, y_test, prod_train, prod_test = train_test_split(\n",
    "    X, y, prod_labels, test_size=0.20, random_state=42, stratify=prod_labels\n",
    ")\n",
    "\n",
    "# -------------------------\n",
    "# 6) Optuna: RF con CV estratificada por Product_ID\n",
    "# -------------------------\n",
    "def objective(trial):\n",
    "    params = {\n",
    "        \"n_estimators\": trial.suggest_int(\"n_estimators\", 600, 3000),\n",
    "        \"max_depth\": trial.suggest_int(\"max_depth\", 8, 60),\n",
    "        \"min_samples_split\": trial.suggest_int(\"min_samples_split\", 2, 40),\n",
    "        \"min_samples_leaf\": trial.suggest_int(\"min_samples_leaf\", 1, 20),\n",
    "        \"max_features\": trial.suggest_categorical(\"max_features\", [\"sqrt\", \"log2\"]),\n",
    "        \"bootstrap\": trial.suggest_categorical(\"bootstrap\", [True, False]),\n",
    "    }\n",
    "    model = RandomForestRegressor(**params, random_state=42, n_jobs=-1)\n",
    "\n",
    "    skf = StratifiedKFold(n_splits=5, shuffle=True, random_state=42)\n",
    "    mses = []\n",
    "    for tr_idx, val_idx in skf.split(X_train, prod_train):\n",
    "        X_tr, X_val = X_train.iloc[tr_idx], X_train.iloc[val_idx]\n",
    "        y_tr, y_val = y_train.iloc[tr_idx], y_train.iloc[val_idx]\n",
    "        model.fit(X_tr, y_tr)\n",
    "        pred = model.predict(X_val)\n",
    "        mses.append(mean_squared_error(y_val, pred))\n",
    "    return float(np.mean(mses))\n",
    "\n",
    "study = optuna.create_study(direction=\"minimize\")\n",
    "study.optimize(objective, n_trials=100, n_jobs=-1, show_progress_bar=True)\n",
    "\n",
    "print(\"\\n✅ Best hyperparameters:\")\n",
    "for k, v in study.best_params.items():\n",
    "    print(f\"{k}: {v}\")\n",
    "\n",
    "best_model = RandomForestRegressor(**study.best_params, random_state=42, n_jobs=-1)\n",
    "best_model.fit(X_train, y_train)\n",
    "\n",
    "# -------------------------\n",
    "# 7) Evaluación\n",
    "# -------------------------\n",
    "y_pred = best_model.predict(X_test)\n",
    "mse = mean_squared_error(y_test, y_pred)\n",
    "mae = mean_absolute_error(y_test, y_pred)\n",
    "r2  = r2_score(y_test, y_pred)\n",
    "print(\"\\n==== Final Test Metrics ====\")\n",
    "print(f\"MSE: {mse:.4f}\")\n",
    "print(f\"MAE: {mae:.4f}\")\n",
    "print(f\"R²:  {r2:.4f}\")\n",
    "\n",
    "# Plot y_test vs y_pred\n",
    "plt.figure(figsize=(6, 6))\n",
    "plt.scatter(y_test, y_pred, alpha=0.6)\n",
    "lo = float(min(y_test.min(), y_pred.min()))\n",
    "hi = float(max(y_test.max(), y_pred.max()))\n",
    "plt.plot([lo, hi], [lo, hi], \"--\", color=\"gray\")\n",
    "plt.xlabel(\"Real (y_test)\")\n",
    "plt.ylabel(\"Predicho (y_pred)\")\n",
    "plt.title(\"Predicción vs Real - Optimal_Load (RF mejorado)\")\n",
    "plt.tight_layout()\n",
    "plt.savefig(\"model_fit_plot.png\")\n",
    "plt.close()\n",
    "\n",
    "# -------------------------\n",
    "# 8) Guardar artefactos y metadatos\n",
    "# -------------------------\n",
    "joblib.dump(best_model, \"best_model.pkl\")\n",
    "joblib.dump(X.columns.tolist(), \"X_columns.pkl\")\n",
    "\n",
    "# Opciones para dashboard\n",
    "origin_opts = sorted(df[\"Origin\"].dropna().astype(str).unique().tolist())\n",
    "ftype_opts  = sorted(df[\"Flight_Type\"].dropna().astype(str).unique().tolist())\n",
    "stype_opts  = sorted(df[\"Service_Type\"].dropna().astype(str).unique().tolist())\n",
    "product_opts = sorted(df[\"Product_ID\"].dropna().astype(str).unique().tolist())\n",
    "\n",
    "# Mapa Product_ID → Product_Name\n",
    "pid_name_map = (\n",
    "    df[[\"Product_ID\",\"Product_Name\"]]\n",
    "      .dropna().drop_duplicates(subset=[\"Product_ID\"])\n",
    "      .astype({\"Product_ID\": str})\n",
    "      .set_index(\"Product_ID\")[\"Product_Name\"].astype(str).to_dict()\n",
    ")\n",
    "\n",
    "# Medianas de qty por producto (para defaults)\n",
    "per_product_qty_median = {\n",
    "    str(pid): float(grp[\"Standard_Specification_Qty\"].median())\n",
    "    for pid, grp in df.groupby(\"Product_ID\")\n",
    "}\n",
    "\n",
    "# Medias históricas por producto (para construir features en el dashboard)\n",
    "avg_by_product = (\n",
    "    df.groupby(\"Product_ID\")[[\"Avg_Consumed_Product\", \"Avg_Returned_Product\"]]\n",
    "      .mean()\n",
    "      .astype(float)\n",
    "      .rename_axis(\"Product_ID\")\n",
    "      .reset_index()\n",
    ")\n",
    "avg_map = {\n",
    "    str(row[\"Product_ID\"]): {\n",
    "        \"Avg_Consumed_Product\": float(row[\"Avg_Consumed_Product\"]),\n",
    "        \"Avg_Returned_Product\": float(row[\"Avg_Returned_Product\"]),\n",
    "    }\n",
    "    for _, row in avg_by_product.iterrows()\n",
    "}\n",
    "\n",
    "metadata = {\n",
    "    \"cat_cols\": cat_cols,\n",
    "    \"num_cols\": num_cols,\n",
    "    \"onehot_prefixes\": {c: f\"{c}_\" for c in cat_cols},\n",
    "    \"origin_options\": origin_opts,\n",
    "    \"flight_type_options\": ftype_opts,\n",
    "    \"service_type_options\": stype_opts,\n",
    "    \"product_id_options\": product_opts,\n",
    "    \"product_id_to_name\": pid_name_map,\n",
    "    \"per_product_qty_median\": per_product_qty_median,\n",
    "    \"avg_by_product\": avg_map,  # para features históricas\n",
    "}\n",
    "\n",
    "joblib.dump(metadata, \"model_metadata.pkl\")\n",
    "\n",
    "print(\"\\n📦 Artefactos guardados:\")\n",
    "print(\"- best_model.pkl\")\n",
    "print(\"- X_columns.pkl\")\n",
    "print(\"- model_metadata.pkl\")\n",
    "print(\"- model_fit_plot.png\")"
   ]
  }
 ],
 "metadata": {
  "kernelspec": {
   "display_name": "base",
   "language": "python",
   "name": "python3"
  },
  "language_info": {
   "codemirror_mode": {
    "name": "ipython",
    "version": 3
   },
   "file_extension": ".py",
   "mimetype": "text/x-python",
   "name": "python",
   "nbconvert_exporter": "python",
   "pygments_lexer": "ipython3",
   "version": "3.12.2"
  }
 },
 "nbformat": 4,
 "nbformat_minor": 5
}
